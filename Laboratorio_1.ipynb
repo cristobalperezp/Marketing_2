{
  "cells": [
    {
      "cell_type": "markdown",
      "metadata": {
        "id": "view-in-github",
        "colab_type": "text"
      },
      "source": [
        "<a href=\"https://colab.research.google.com/github/cristobalperezp/Marketing_2/blob/main/Laboratorio_1.ipynb\" target=\"_parent\"><img src=\"https://colab.research.google.com/assets/colab-badge.svg\" alt=\"Open In Colab\"/></a>"
      ]
    },
    {
      "cell_type": "markdown",
      "metadata": {
        "id": "K1lszhg-u4i4"
      },
      "source": [
        "# **Laboratorio 1**\n",
        "## Introducción a R\n",
        "##### Integrantes: Cristóbal Pérez, Felipe Moreno, Jesús Farías"
      ]
    },
    {
      "cell_type": "code",
      "execution_count": null,
      "metadata": {
        "id": "xSrvwFCNu4i6"
      },
      "outputs": [],
      "source": [
        "#importamos las librerías a ocupar:\n",
        "import numpy as np\n",
        "import pandas as pd\n",
        "import matplotlib.pyplot as plt"
      ]
    },
    {
      "cell_type": "code",
      "execution_count": null,
      "metadata": {
        "id": "FXzvbadNu4i8"
      },
      "outputs": [],
      "source": [
        "#creamos los vectores de distribuciones normales y el error:\n",
        "x_1 = np.random.normal(0,1,30)\n",
        "x_2 = np.random.normal(0,1,30)\n",
        "epsilon = np.random.normal(0,1,30)"
      ]
    },
    {
      "cell_type": "code",
      "execution_count": null,
      "metadata": {
        "id": "EZukmLHou4i8"
      },
      "outputs": [],
      "source": [
        "#creamos un dataframe con las variables\n",
        "df = pd.DataFrame()\n",
        "df['x1'] = x_1\n",
        "df['x2'] = x_2\n",
        "#df"
      ]
    },
    {
      "cell_type": "code",
      "execution_count": null,
      "metadata": {
        "id": "ufjRFECzu4i9"
      },
      "outputs": [],
      "source": [
        "#creamos los coeficientes y la variable y, como una combinación lineal más el error\n",
        "b_0 = 10\n",
        "b_1 = 4\n",
        "b_2 = 2\n",
        "y = b_0 + b_1*x_1 + b_2*x_2 + epsilon"
      ]
    },
    {
      "cell_type": "code",
      "execution_count": null,
      "metadata": {
        "id": "7nBU7enyu4i9",
        "outputId": "42e57bba-c2da-411d-bb4b-ac1ce9c77063"
      },
      "outputs": [
        {
          "name": "stdout",
          "output_type": "stream",
          "text": [
            "                            OLS Regression Results                            \n",
            "==============================================================================\n",
            "Dep. Variable:                      y   R-squared:                       0.975\n",
            "Model:                            OLS   Adj. R-squared:                  0.973\n",
            "Method:                 Least Squares   F-statistic:                     517.1\n",
            "Date:                Wed, 16 Mar 2022   Prob (F-statistic):           2.99e-22\n",
            "Time:                        15:26:27   Log-Likelihood:                -40.101\n",
            "No. Observations:                  30   AIC:                             86.20\n",
            "Df Residuals:                      27   BIC:                             90.41\n",
            "Df Model:                           2                                         \n",
            "Covariance Type:            nonrobust                                         \n",
            "==============================================================================\n",
            "                 coef    std err          t      P>|t|      [0.025      0.975]\n",
            "------------------------------------------------------------------------------\n",
            "const          9.9027      0.181     54.832      0.000       9.532      10.273\n",
            "x1             3.9943      0.145     27.494      0.000       3.696       4.292\n",
            "x2             2.0864      0.187     11.142      0.000       1.702       2.471\n",
            "==============================================================================\n",
            "Omnibus:                        3.834   Durbin-Watson:                   2.103\n",
            "Prob(Omnibus):                  0.147   Jarque-Bera (JB):                2.625\n",
            "Skew:                          -0.710   Prob(JB):                        0.269\n",
            "Kurtosis:                       3.287   Cond. No.                         1.47\n",
            "==============================================================================\n",
            "\n",
            "Notes:\n",
            "[1] Standard Errors assume that the covariance matrix of the errors is correctly specified.\n"
          ]
        }
      ],
      "source": [
        "#Importamos el modelo de regresión lineal:\n",
        "import statsmodels.api as sm\n",
        "#OLS:\n",
        "#Se agrega la constante:\n",
        "df2 = sm.add_constant(df)\n",
        "#Se crea el modelo:\n",
        "ols_model = sm.OLS(y,df2)\n",
        "#Se ajusta el modelo:\n",
        "ols = ols_model.fit()\n",
        "#Tabla resumen:\n",
        "print(ols.summary())"
      ]
    },
    {
      "cell_type": "markdown",
      "metadata": {
        "id": "8eO4pRI1u4i-"
      },
      "source": [
        "Comentario:\n"
      ]
    },
    {
      "cell_type": "code",
      "execution_count": null,
      "metadata": {
        "id": "8SLDo_sBu4i-"
      },
      "outputs": [],
      "source": [
        "#se repite el procedimiento, pero ahora con 1000 entradas.\n",
        "x_1 = np.random.normal(0,1,10000)\n",
        "x_2 = np.random.normal(0,1,10000)\n",
        "epsilon = np.random.normal(0,1,10000)\n",
        "b_0 = 10\n",
        "b_1 = 4\n",
        "b_2 = 2\n",
        "y = b_0 + b_1*x_1 + b_2*x_2 + epsilon\n",
        "df = pd.DataFrame()\n",
        "df['x1'] = x_1\n",
        "df['x2'] = x_2\n",
        "#df"
      ]
    },
    {
      "cell_type": "code",
      "execution_count": null,
      "metadata": {
        "id": "5DLh8zcku4i_",
        "outputId": "2c651f3c-2798-4140-be72-02b1120cd23f"
      },
      "outputs": [
        {
          "name": "stdout",
          "output_type": "stream",
          "text": [
            "                            OLS Regression Results                            \n",
            "==============================================================================\n",
            "Dep. Variable:                      y   R-squared:                       0.952\n",
            "Model:                            OLS   Adj. R-squared:                  0.952\n",
            "Method:                 Least Squares   F-statistic:                 9.987e+04\n",
            "Date:                Wed, 16 Mar 2022   Prob (F-statistic):               0.00\n",
            "Time:                        15:31:32   Log-Likelihood:                -14240.\n",
            "No. Observations:               10000   AIC:                         2.849e+04\n",
            "Df Residuals:                    9997   BIC:                         2.851e+04\n",
            "Df Model:                           2                                         \n",
            "Covariance Type:            nonrobust                                         \n",
            "==============================================================================\n",
            "                 coef    std err          t      P>|t|      [0.025      0.975]\n",
            "------------------------------------------------------------------------------\n",
            "const         10.0079      0.010    995.568      0.000       9.988      10.028\n",
            "x1             3.9955      0.010    395.469      0.000       3.976       4.015\n",
            "x2             2.0159      0.010    199.164      0.000       1.996       2.036\n",
            "==============================================================================\n",
            "Omnibus:                        4.866   Durbin-Watson:                   1.984\n",
            "Prob(Omnibus):                  0.088   Jarque-Bera (JB):                4.688\n",
            "Skew:                          -0.030   Prob(JB):                       0.0960\n",
            "Kurtosis:                       2.912   Cond. No.                         1.02\n",
            "==============================================================================\n",
            "\n",
            "Notes:\n",
            "[1] Standard Errors assume that the covariance matrix of the errors is correctly specified.\n"
          ]
        }
      ],
      "source": [
        "#OLS:\n",
        "#Se agrega la constante:\n",
        "df2 = sm.add_constant(df)\n",
        "#Se crea el modelo:\n",
        "ols_model = sm.OLS(y,df2)\n",
        "#Se ajusta el modelo:\n",
        "ols = ols_model.fit()\n",
        "#Tabla resumen:\n",
        "print(ols.summary())"
      ]
    },
    {
      "cell_type": "markdown",
      "source": [
        "Comentario:\n"
      ],
      "metadata": {
        "id": "XovzDAT7B9A4"
      }
    },
    {
      "cell_type": "code",
      "execution_count": null,
      "metadata": {
        "id": "owI63IcMu4jA",
        "outputId": "2a565780-cb20-4db9-b224-39bd97868641"
      },
      "outputs": [
        {
          "data": {
            "text/plain": [
              "LinearRegression()"
            ]
          },
          "execution_count": 124,
          "metadata": {},
          "output_type": "execute_result"
        }
      ],
      "source": [
        "#Modelo:\n",
        "from sklearn.linear_model import LinearRegression\n",
        "#LinearRegression\n",
        "# Se crea el modelo:\n",
        "model = LinearRegression()\n",
        "#Entregar los datos de entrenamiento para el modelo definido:\n",
        "model.fit(df,y)"
      ]
    },
    {
      "cell_type": "code",
      "execution_count": null,
      "metadata": {
        "id": "Y-Q4D3siu4jA",
        "outputId": "9a23485f-fada-4674-cd7d-ee030eb2be02"
      },
      "outputs": [
        {
          "name": "stdout",
          "output_type": "stream",
          "text": [
            "-------------------------------------------------------------\n",
            "Constante =  10.007867545275632  \n",
            "\n",
            "-------------------------------------------------------------\n",
            "Regresores: \n",
            "\n",
            "x1 = 3.995513810145795  \n",
            "\n",
            "x2 = 2.015888948735494  \n",
            "\n",
            "-------------------------------------------------------------\n"
          ]
        }
      ],
      "source": [
        "b = model.coef_\n",
        "b0 = model.intercept_\n",
        "regresores = df.columns\n",
        "print(\"-------------------------------------------------------------\")\n",
        "print(\"Constante = \",b0,' \\n')\n",
        "print(\"-------------------------------------------------------------\")\n",
        "print(\"Regresores: \\n\")\n",
        "for i in range(0,2):\n",
        "    print(df.columns[i], '=',b[i],' \\n')\n",
        "print(\"-------------------------------------------------------------\")"
      ]
    },
    {
      "cell_type": "code",
      "execution_count": null,
      "metadata": {
        "id": "QuF3-jYru4jB"
      },
      "outputs": [],
      "source": [
        "#Obtener los valores estimados para el modelo:\n",
        "predictions_in_sample = model.predict(df)"
      ]
    },
    {
      "cell_type": "code",
      "execution_count": null,
      "metadata": {
        "id": "LgTNUYMLu4jB",
        "outputId": "8e99965d-5c91-48f5-ece3-768d91703109"
      },
      "outputs": [
        {
          "data": {
            "text/plain": [
              "Text(0, 0.5, 'Predictions')"
            ]
          },
          "execution_count": 133,
          "metadata": {},
          "output_type": "execute_result"
        },
        {
          "data": {
            "image/png": "[encoded data removed]",
            "text/plain": [
              "<Figure size 1440x360 with 1 Axes>"
            ]
          },
          "metadata": {
            "needs_background": "light"
          },
          "output_type": "display_data"
        }
      ],
      "source": [
        "#pasamos los valores predichos a un vector\n",
        "predictions = []\n",
        "for i in range(len(predictions_in_sample)):\n",
        "    predictions.append(predictions_in_sample[i])\n",
        "\n",
        "#graficamos el scatter plot\n",
        "plt.figure(figsize=(20,5))\n",
        "plt.scatter(y,predictions,c='crimson')\n",
        "plt.xlabel('True Values', fontsize=15)\n",
        "plt.ylabel('Predictions', fontsize=15)"
      ]
    },
    {
      "cell_type": "markdown",
      "metadata": {
        "id": "eOm6A0bRu4jC"
      },
      "source": [
        "Comentario:\n"
      ]
    }
  ],
  "metadata": {
    "interpreter": {
      "hash": "aee8b7b246df8f9039afb4144a1f6fd8d2ca17a180786b69acc140d282b71a49"
    },
    "kernelspec": {
      "display_name": "Python 3.10.2 64-bit",
      "language": "python",
      "name": "python3"
    },
    "language_info": {
      "codemirror_mode": {
        "name": "ipython",
        "version": 3
      },
      "file_extension": ".py",
      "mimetype": "text/x-python",
      "name": "python",
      "nbconvert_exporter": "python",
      "pygments_lexer": "ipython3",
      "version": "3.10.2"
    },
    "orig_nbformat": 4,
    "colab": {
      "name": "Laboratorio 1.ipynb",
      "provenance": [],
      "include_colab_link": true
    }
  },
  "nbformat": 4,
  "nbformat_minor": 0
}